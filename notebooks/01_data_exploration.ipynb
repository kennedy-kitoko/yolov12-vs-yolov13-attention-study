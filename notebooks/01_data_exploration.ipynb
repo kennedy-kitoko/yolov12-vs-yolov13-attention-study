{
  "cells": [
    {
      "cell_type": "markdown",
      "metadata": {},
      "source": [
        "# \ud83d\udcca Exploration des Donn\u00e9es Exp\u00e9rimentales\n",
        "## YOLOv12 vs YOLOv13 - SDPA vs Flash Attention\n",
        "\n",
        "**Auteur:** Kennedy Kitoko \ud83c\udde8\ud83c\udde9  \n",
        "**Date:** June 2025  \n"
      ]
    },
    {
      "cell_type": "code",
      "execution_count": null,
      "metadata": {},
      "source": [
        "import pandas as pd\n",
        "import numpy as np\n",
        "import matplotlib.pyplot as plt\n",
        "import seaborn as sns\n",
        "import json\n",
        "\n",
        "# Chargement des donn\u00e9es\n",
        "with open('../data/consolidated_results.json', 'r') as f:\n",
        "    data = json.load(f)\n",
        "\n",
        "print('\ud83c\udfaf Donn\u00e9es charg\u00e9es avec succ\u00e8s!')\n",
        "print(f'Exp\u00e9riences: {len(data[\"experiments\"])}')"
      ]
    },
    {
      "cell_type": "markdown",
      "metadata": {},
      "source": [
        "## \ud83d\udcc8 Analyse Performance\n"
      ]
    },
    {
      "cell_type": "code",
      "execution_count": null,
      "metadata": {},
      "source": [
        "# Extraction m\u00e9triques\n",
        "experiments = []\n",
        "for exp_name, exp_data in data['experiments'].items():\n",
        "    if exp_data['success']:\n",
        "        experiments.append({\n",
        "            'name': exp_name,\n",
        "            'model': exp_name.split('_')[0],\n",
        "            'attention': exp_name.split('_')[1],\n",
        "            'mAP50': exp_data['metrics']['mAP50'] * 100,\n",
        "            'precision': exp_data['metrics']['precision'] * 100,\n",
        "            'recall': exp_data['metrics']['recall'] * 100,\n",
        "            'duration': exp_data['performance']['duration_minutes']\n",
        "        })\n",
        "\n",
        "df = pd.DataFrame(experiments)\n",
        "print(df)"
      ]
    }
  ],
  "metadata": {
    "kernelspec": {
      "display_name": "Python 3",
      "language": "python",
      "name": "python3"
    }
  },
  "nbformat": 4,
  "nbformat_minor": 4
}